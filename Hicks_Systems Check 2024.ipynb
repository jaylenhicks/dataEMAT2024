{
 "cells": [
  {
   "cell_type": "markdown",
   "id": "dc87d0e5",
   "metadata": {},
   "source": [
    "# This is a Main Header"
   ]
  },
  {
   "cell_type": "markdown",
   "id": "1ab1dfd8",
   "metadata": {},
   "source": [
    "## This is a Sub Header"
   ]
  },
  {
   "cell_type": "markdown",
   "id": "50951f4b",
   "metadata": {},
   "source": [
    "**This is Bold Text**"
   ]
  },
  {
   "cell_type": "markdown",
   "id": "35c8f1fe",
   "metadata": {},
   "source": [
    "*This is Italicized Text*"
   ]
  },
  {
   "attachments": {
    "images-4.jpeg": {
     "image/jpeg": "[encoded data removed]"
    }
   },
   "cell_type": "markdown",
   "id": "c10e4242",
   "metadata": {},
   "source": [
    "![images-4.jpeg](attachment:images-4.jpeg)"
   ]
  },
  {
   "cell_type": "markdown",
   "id": "c79a36c4",
   "metadata": {},
   "source": [
    "I hope to learn more about data science"
   ]
  },
  {
   "cell_type": "markdown",
   "id": "58e6e670",
   "metadata": {},
   "source": [
    "- This is an unordered\n",
    "- list"
   ]
  },
  {
   "cell_type": "markdown",
   "id": "8ea8cb31",
   "metadata": {},
   "source": [
    "1. This is an ordered\n",
    "2. list"
   ]
  },
  {
   "cell_type": "code",
   "execution_count": 8,
   "id": "3f17764d",
   "metadata": {},
   "outputs": [
    {
     "data": {
      "text/plain": [
       "22"
      ]
     },
     "execution_count": 8,
     "metadata": {},
     "output_type": "execute_result"
    }
   ],
   "source": [
    "12+10"
   ]
  },
  {
   "cell_type": "code",
   "execution_count": 9,
   "id": "c098ede2",
   "metadata": {},
   "outputs": [
    {
     "name": "stdout",
     "output_type": "stream",
     "text": [
      "1\n",
      "22\n"
     ]
    }
   ],
   "source": [
    "x=[1,22]\n",
    "for i in x:\n",
    "    print(i)"
   ]
  },
  {
   "cell_type": "code",
   "execution_count": 10,
   "id": "4379cb7a",
   "metadata": {},
   "outputs": [],
   "source": [
    "def first(x):\n",
    "    name = x.lower()\n",
    "    print(\"hi \" + str(x))\n",
    "    \n",
    "    \n",
    "    print(\"names\")\n",
    "    return 'hi ' + x"
   ]
  },
  {
   "cell_type": "code",
   "execution_count": 11,
   "id": "0c346d74",
   "metadata": {},
   "outputs": [
    {
     "name": "stdout",
     "output_type": "stream",
     "text": [
      "hi Jaylen\n",
      "names\n"
     ]
    }
   ],
   "source": [
    "user_name = first('Jaylen')"
   ]
  },
  {
   "cell_type": "code",
   "execution_count": 12,
   "id": "e4d4fa60",
   "metadata": {
    "scrolled": true
   },
   "outputs": [
    {
     "data": {
      "text/plain": [
       "'hi Jaylen'"
      ]
     },
     "execution_count": 12,
     "metadata": {},
     "output_type": "execute_result"
    }
   ],
   "source": [
    "user_name"
   ]
  }
 ],
 "metadata": {
  "kernelspec": {
   "display_name": "Python 3 (ipykernel)",
   "language": "python",
   "name": "python3"
  },
  "language_info": {
   "codemirror_mode": {
    "name": "ipython",
    "version": 3
   },
   "file_extension": ".py",
   "mimetype": "text/x-python",
   "name": "python",
   "nbconvert_exporter": "python",
   "pygments_lexer": "ipython3",
   "version": "3.11.4"
  }
 },
 "nbformat": 4,
 "nbformat_minor": 5
}
